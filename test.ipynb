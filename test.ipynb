{
 "cells": [
  {
   "cell_type": "code",
   "execution_count": null,
   "id": "c442db9f",
   "metadata": {},
   "outputs": [],
   "source": [
    "cd ~/Documents/EOD-risk-toolkit      # project root\n",
    "source venv/bin/activate             # or .venv/bin/activate"
   ]
  },
  {
   "cell_type": "code",
   "execution_count": null,
   "id": "a2ab4dc9",
   "metadata": {},
   "outputs": [],
   "source": [
    "git commit -m \"Add 20/60/120-day vol and 60-day beta snapshots\""
   ]
  }
 ],
 "metadata": {
  "kernelspec": {
   "display_name": "venv",
   "language": "python",
   "name": "python3"
  },
  "language_info": {
   "name": "python",
   "version": "3.13.0"
  }
 },
 "nbformat": 4,
 "nbformat_minor": 5
}
